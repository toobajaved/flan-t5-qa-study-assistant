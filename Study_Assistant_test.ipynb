{
  "nbformat": 4,
  "nbformat_minor": 0,
  "metadata": {
    "colab": {
      "provenance": [],
      "gpuType": "T4"
    },
    "kernelspec": {
      "name": "python3",
      "display_name": "Python 3"
    },
    "language_info": {
      "name": "python"
    },
    "accelerator": "GPU"
  },
  "cells": [
    {
      "cell_type": "markdown",
      "source": [
        "## Study Assistant Test Notebook\n",
        "\n",
        "This notebook tests the **FLAN-T5 QA Study Assistant** model with different sample questions and contexts. It shows how the model answers questions based on various historical facts, scientific contributions, and more. You can use this notebook to quickly try out the model and see how it performs on different topics like **Einstein’s famous equation** or **Edison’s inventions**.\n",
        "\n",
        "### Key Features:\n",
        "- Tests the model on multiple **QA tasks** with simple examples.\n",
        "- Shows how the model can handle different topics.\n",
        "- Easy-to-understand results and ready-to-run in Colab.\n",
        "\n",
        "[![Open in Colab](https://colab.research.google.com/assets/colab-badge.svg)](https://colab.research.google.com/github/toobajaved/flan-t5-qa-study-assistant/blob/main/Study_Assistant_test.ipynb)\n"
      ],
      "metadata": {
        "id": "f8N0A4O1laBA"
      }
    },
    {
      "cell_type": "code",
      "execution_count": 3,
      "metadata": {
        "id": "OgG_OAQVa8av"
      },
      "outputs": [],
      "source": [
        "from transformers import AutoModelForSeq2SeqLM, AutoTokenizer\n",
        "\n",
        "# Load the model and tokenizer from Hugging Face\n",
        "model = AutoModelForSeq2SeqLM.from_pretrained(\"tootooba/flan-t5-qa-study-assistant\").to(\"cuda\")\n",
        "tokenizer = AutoTokenizer.from_pretrained(\"tootooba/flan-t5-qa-study-assistant\")\n",
        "\n",
        "\n"
      ]
    },
    {
      "cell_type": "code",
      "source": [
        "def ask_question(context, question):\n",
        "    # Tokenize the inputs\n",
        "    inputs = tokenizer(question, context, return_tensors=\"pt\", truncation=True, padding=True).to(\"cuda\")\n",
        "\n",
        "    # Generate the answer\n",
        "    outputs = model.generate(inputs.input_ids)\n",
        "\n",
        "    # Decode the generated answer\n",
        "    answer = tokenizer.decode(outputs[0], skip_special_tokens=True)\n",
        "\n",
        "    # Print the answer\n",
        "    print(f\"Question: {question}\")\n",
        "    print(f\"Answer: {answer}\")\n"
      ],
      "metadata": {
        "id": "FuWdy2dBkeTB"
      },
      "execution_count": 4,
      "outputs": []
    },
    {
      "cell_type": "code",
      "source": [
        "context = \"Albert Einstein was a theoretical physicist who developed the theory of relativity, one of the two pillars of modern physics. His work is also known for its influence on the philosophy of science. He is best known for his mass-energy equivalence formula E = mc², dubbed 'the world's most famous equation'.\"\n",
        "question = \"What is Albert Einstein’s most famous equation?\"\n",
        "\n",
        "ask_question(context, question)\n"
      ],
      "metadata": {
        "colab": {
          "base_uri": "https://localhost:8080/"
        },
        "id": "IFSpD8h3kiC6",
        "outputId": "2995740b-fe39-4228-a1aa-82d57d6479ee"
      },
      "execution_count": 5,
      "outputs": [
        {
          "output_type": "stream",
          "name": "stdout",
          "text": [
            "Question: What is Albert Einstein’s most famous equation?\n",
            "Answer: E = mc2\n"
          ]
        }
      ]
    },
    {
      "cell_type": "code",
      "source": [
        "context = \"Thomas Edison was an American inventor and businessman who developed many devices in fields such as electric power generation, sound recording, and motion pictures. His most famous invention was the electric light bulb, which revolutionized the world.\"\n",
        "question = \"What was Thomas Edison’s most famous invention?\"\n",
        "\n",
        "ask_question(context, question)\n"
      ],
      "metadata": {
        "colab": {
          "base_uri": "https://localhost:8080/"
        },
        "id": "_jYAST97klwL",
        "outputId": "079df56e-55af-4790-9e9b-71cc4dda9e0c"
      },
      "execution_count": 6,
      "outputs": [
        {
          "output_type": "stream",
          "name": "stdout",
          "text": [
            "Question: What was Thomas Edison’s most famous invention?\n",
            "Answer: electric light bulb\n"
          ]
        }
      ]
    },
    {
      "cell_type": "code",
      "source": [
        "context = \"The Amazon River in South America is the largest river by discharge volume of water in the world, and by some definitions, it is the longest. The river flows through Brazil, Peru, Colombia, and several other South American countries.\"\n",
        "question = \"Which countries does the Amazon River flow through?\"\n",
        "\n",
        "ask_question(context, question)\n"
      ],
      "metadata": {
        "colab": {
          "base_uri": "https://localhost:8080/"
        },
        "id": "RhTo1T7bkpe_",
        "outputId": "60885622-6454-4e7e-b1d3-f3f99451d830"
      },
      "execution_count": 7,
      "outputs": [
        {
          "output_type": "stream",
          "name": "stdout",
          "text": [
            "Question: Which countries does the Amazon River flow through?\n",
            "Answer: Brazil, Peru, Colombia, and several other South American countries\n"
          ]
        }
      ]
    },
    {
      "cell_type": "code",
      "source": [
        "context = \"Python is an interpreted, high-level, general-purpose programming language. It was created by Guido van Rossum and first released in 1991. Python’s design philosophy emphasizes code readability with its notable use of significant indentation.\"\n",
        "question = \"Who created the Python programming language?\"\n",
        "\n",
        "ask_question(context, question)\n"
      ],
      "metadata": {
        "colab": {
          "base_uri": "https://localhost:8080/"
        },
        "id": "LBBV8CPjkrK6",
        "outputId": "a04b95e6-8b62-4395-c88e-9a22a4946e6e"
      },
      "execution_count": 8,
      "outputs": [
        {
          "output_type": "stream",
          "name": "stdout",
          "text": [
            "Question: Who created the Python programming language?\n",
            "Answer: Guido van Rossum\n"
          ]
        }
      ]
    },
    {
      "cell_type": "code",
      "source": [
        "context = \"The Eiffel Tower is a wrought-iron lattice tower on the Champ de Mars in Paris, France. It was constructed between 1887 and 1889 as the entrance arch for the 1889 World's Fair. The tower is a global cultural icon of France and one of the most recognizable structures in the world.\"\n",
        "question = \"When was the Eiffel Tower constructed?\"\n",
        "\n",
        "ask_question(context, question)\n"
      ],
      "metadata": {
        "colab": {
          "base_uri": "https://localhost:8080/"
        },
        "id": "N04ff35Hkutu",
        "outputId": "f3d9c7f8-e704-4261-8814-823d3f1bf699"
      },
      "execution_count": 9,
      "outputs": [
        {
          "output_type": "stream",
          "name": "stdout",
          "text": [
            "Question: When was the Eiffel Tower constructed?\n",
            "Answer: between 1887 and 1889\n"
          ]
        }
      ]
    },
    {
      "cell_type": "code",
      "source": [
        "context = \"Marie Curie was a physicist and chemist who conducted pioneering research on radioactivity. She was the first woman to win a Nobel Prize, and she is the only woman to win the Nobel Prize twice. She won in two different fields: Physics and Chemistry.\"\n",
        "question = \"In which two fields did Marie Curie win Nobel Prizes?\"\n",
        "\n",
        "ask_question(context, question)\n"
      ],
      "metadata": {
        "colab": {
          "base_uri": "https://localhost:8080/"
        },
        "id": "2o4EpK4HkyPg",
        "outputId": "55f31062-6445-43c6-d063-95eaa8edfaf7"
      },
      "execution_count": 10,
      "outputs": [
        {
          "output_type": "stream",
          "name": "stdout",
          "text": [
            "Question: In which two fields did Marie Curie win Nobel Prizes?\n",
            "Answer: Physics and Chemistry\n"
          ]
        }
      ]
    },
    {
      "cell_type": "code",
      "source": [],
      "metadata": {
        "id": "sSN7u02Mk25q"
      },
      "execution_count": null,
      "outputs": []
    }
  ]
}